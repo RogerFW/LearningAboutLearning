{
  "nbformat": 4,
  "nbformat_minor": 0,
  "metadata": {
    "colab": {
      "name": "TF Course 1 .ipynb",
      "provenance": [],
      "collapsed_sections": [],
      "toc_visible": true
    },
    "kernelspec": {
      "display_name": "Python 3",
      "name": "python3"
    }
  },
  "cells": [
    {
      "cell_type": "markdown",
      "metadata": {
        "colab_type": "text",
        "id": "ZIAkIlfmCe1B"
      },
      "source": [
        "# The Hello World of Deep Learning with Neural Networks"
      ]
    },
    {
      "cell_type": "code",
      "metadata": {
        "id": "LUz4fOuYTyyF",
        "colab_type": "code",
        "colab": {}
      },
      "source": [
        "# Let's Import libraries\n",
        "import tensorflow as tf\n",
        "import numpy as np\n",
        "import matplotlib.pyplot as plt"
      ],
      "execution_count": 0,
      "outputs": []
    },
    {
      "cell_type": "code",
      "metadata": {
        "colab_type": "code",
        "id": "kQFAr_xo0M4T",
        "colab": {}
      },
      "source": [
        "model = tf.keras.Sequential([tf.keras.layers.Dense(units=1, input_shape=[1])])"
      ],
      "execution_count": 0,
      "outputs": []
    },
    {
      "cell_type": "code",
      "metadata": {
        "colab_type": "code",
        "id": "m8YQN1H41L-Y",
        "colab": {}
      },
      "source": [
        "model.compile(optimizer='sgd', loss='mean_squared_error')"
      ],
      "execution_count": 0,
      "outputs": []
    },
    {
      "cell_type": "code",
      "metadata": {
        "colab_type": "code",
        "id": "4Dxk4q-jzEy4",
        "colab": {}
      },
      "source": [
        "xs = np.array([-1.0,  0.0, 1.0, 2.0, 3.0, 4.0], dtype=float)\n",
        "ys = np.array([-3.0, -1.0, 1.0, 3.0, 5.0, 7.0], dtype=float)"
      ],
      "execution_count": 0,
      "outputs": []
    },
    {
      "cell_type": "code",
      "metadata": {
        "id": "CgZn4FMHbFRc",
        "colab_type": "code",
        "colab": {
          "base_uri": "https://localhost:8080/",
          "height": 34
        },
        "outputId": "99e7def3-7adf-4ee2-a27e-8859e783f1ef"
      },
      "source": [
        "xs[0:5]"
      ],
      "execution_count": 49,
      "outputs": [
        {
          "output_type": "execute_result",
          "data": {
            "text/plain": [
              "array([ 87., 270., 435., 354., 231.])"
            ]
          },
          "metadata": {
            "tags": []
          },
          "execution_count": 49
        }
      ]
    },
    {
      "cell_type": "code",
      "metadata": {
        "id": "aDHQyWXabKfi",
        "colab_type": "code",
        "colab": {
          "base_uri": "https://localhost:8080/",
          "height": 34
        },
        "outputId": "2d3899df-2a47-47e3-965e-ad03836d42e6"
      },
      "source": [
        "ys[0:5]"
      ],
      "execution_count": 51,
      "outputs": [
        {
          "output_type": "execute_result",
          "data": {
            "text/plain": [
              "array([ 262.,  811., 1306., 1063.,  694.])"
            ]
          },
          "metadata": {
            "tags": []
          },
          "execution_count": 51
        }
      ]
    },
    {
      "cell_type": "code",
      "metadata": {
        "id": "zVoe9CxuZH7C",
        "colab_type": "code",
        "colab": {
          "base_uri": "https://localhost:8080/",
          "height": 1000
        },
        "outputId": "bf2e7711-5c4a-4b7a-90cc-db8c54417584"
      },
      "source": [
        "model.fit(xs, ys, epochs = 100)"
      ],
      "execution_count": 48,
      "outputs": [
        {
          "output_type": "stream",
          "text": [
            "Epoch 1/100\n",
            "16/16 [==============================] - 0s 979us/step - loss: nan   \n",
            "Epoch 2/100\n",
            "16/16 [==============================] - 0s 938us/step - loss: nan\n",
            "Epoch 3/100\n",
            "16/16 [==============================] - 0s 972us/step - loss: nan\n",
            "Epoch 4/100\n",
            "16/16 [==============================] - 0s 1ms/step - loss: nan\n",
            "Epoch 5/100\n",
            "16/16 [==============================] - 0s 966us/step - loss: nan\n",
            "Epoch 6/100\n",
            "16/16 [==============================] - 0s 1ms/step - loss: nan\n",
            "Epoch 7/100\n",
            "16/16 [==============================] - 0s 1ms/step - loss: nan\n",
            "Epoch 8/100\n",
            "16/16 [==============================] - 0s 878us/step - loss: nan\n",
            "Epoch 9/100\n",
            "16/16 [==============================] - 0s 952us/step - loss: nan\n",
            "Epoch 10/100\n",
            "16/16 [==============================] - 0s 946us/step - loss: nan\n",
            "Epoch 11/100\n",
            "16/16 [==============================] - 0s 969us/step - loss: nan\n",
            "Epoch 12/100\n",
            "16/16 [==============================] - 0s 1ms/step - loss: nan\n",
            "Epoch 13/100\n",
            "16/16 [==============================] - 0s 1ms/step - loss: nan\n",
            "Epoch 14/100\n",
            "16/16 [==============================] - 0s 1ms/step - loss: nan\n",
            "Epoch 15/100\n",
            "16/16 [==============================] - 0s 998us/step - loss: nan\n",
            "Epoch 16/100\n",
            "16/16 [==============================] - 0s 961us/step - loss: nan\n",
            "Epoch 17/100\n",
            "16/16 [==============================] - 0s 965us/step - loss: nan\n",
            "Epoch 18/100\n",
            "16/16 [==============================] - 0s 1ms/step - loss: nan\n",
            "Epoch 19/100\n",
            "16/16 [==============================] - 0s 948us/step - loss: nan\n",
            "Epoch 20/100\n",
            "16/16 [==============================] - 0s 931us/step - loss: nan\n",
            "Epoch 21/100\n",
            "16/16 [==============================] - 0s 1ms/step - loss: nan\n",
            "Epoch 22/100\n",
            "16/16 [==============================] - 0s 1ms/step - loss: nan\n",
            "Epoch 23/100\n",
            "16/16 [==============================] - 0s 999us/step - loss: nan\n",
            "Epoch 24/100\n",
            "16/16 [==============================] - 0s 980us/step - loss: nan\n",
            "Epoch 25/100\n",
            "16/16 [==============================] - 0s 979us/step - loss: nan\n",
            "Epoch 26/100\n",
            "16/16 [==============================] - 0s 982us/step - loss: nan\n",
            "Epoch 27/100\n",
            "16/16 [==============================] - 0s 1ms/step - loss: nan\n",
            "Epoch 28/100\n",
            "16/16 [==============================] - 0s 989us/step - loss: nan\n",
            "Epoch 29/100\n",
            "16/16 [==============================] - 0s 892us/step - loss: nan\n",
            "Epoch 30/100\n",
            "16/16 [==============================] - 0s 1ms/step - loss: nan\n",
            "Epoch 31/100\n",
            "16/16 [==============================] - 0s 983us/step - loss: nan\n",
            "Epoch 32/100\n",
            "16/16 [==============================] - 0s 930us/step - loss: nan\n",
            "Epoch 33/100\n",
            "16/16 [==============================] - 0s 1ms/step - loss: nan\n",
            "Epoch 34/100\n",
            "16/16 [==============================] - 0s 1ms/step - loss: nan\n",
            "Epoch 35/100\n",
            "16/16 [==============================] - 0s 939us/step - loss: nan\n",
            "Epoch 36/100\n",
            "16/16 [==============================] - 0s 922us/step - loss: nan\n",
            "Epoch 37/100\n",
            "16/16 [==============================] - 0s 1ms/step - loss: nan\n",
            "Epoch 38/100\n",
            "16/16 [==============================] - 0s 977us/step - loss: nan\n",
            "Epoch 39/100\n",
            "16/16 [==============================] - 0s 989us/step - loss: nan\n",
            "Epoch 40/100\n",
            "16/16 [==============================] - 0s 1ms/step - loss: nan\n",
            "Epoch 41/100\n",
            "16/16 [==============================] - 0s 975us/step - loss: nan\n",
            "Epoch 42/100\n",
            "16/16 [==============================] - 0s 985us/step - loss: nan\n",
            "Epoch 43/100\n",
            "16/16 [==============================] - 0s 1ms/step - loss: nan\n",
            "Epoch 44/100\n",
            "16/16 [==============================] - 0s 1ms/step - loss: nan\n",
            "Epoch 45/100\n",
            "16/16 [==============================] - 0s 994us/step - loss: nan\n",
            "Epoch 46/100\n",
            "16/16 [==============================] - 0s 1ms/step - loss: nan\n",
            "Epoch 47/100\n",
            "16/16 [==============================] - 0s 962us/step - loss: nan\n",
            "Epoch 48/100\n",
            "16/16 [==============================] - 0s 920us/step - loss: nan\n",
            "Epoch 49/100\n",
            "16/16 [==============================] - 0s 997us/step - loss: nan\n",
            "Epoch 50/100\n",
            "16/16 [==============================] - 0s 982us/step - loss: nan\n",
            "Epoch 51/100\n",
            "16/16 [==============================] - 0s 976us/step - loss: nan\n",
            "Epoch 52/100\n",
            "16/16 [==============================] - 0s 953us/step - loss: nan\n",
            "Epoch 53/100\n",
            "16/16 [==============================] - 0s 1ms/step - loss: nan\n",
            "Epoch 54/100\n",
            "16/16 [==============================] - 0s 956us/step - loss: nan\n",
            "Epoch 55/100\n",
            "16/16 [==============================] - 0s 1ms/step - loss: nan\n",
            "Epoch 56/100\n",
            "16/16 [==============================] - 0s 1ms/step - loss: nan\n",
            "Epoch 57/100\n",
            "16/16 [==============================] - 0s 1ms/step - loss: nan\n",
            "Epoch 58/100\n",
            "16/16 [==============================] - 0s 954us/step - loss: nan\n",
            "Epoch 59/100\n",
            "16/16 [==============================] - 0s 1ms/step - loss: nan\n",
            "Epoch 60/100\n",
            "16/16 [==============================] - 0s 981us/step - loss: nan\n",
            "Epoch 61/100\n",
            "16/16 [==============================] - 0s 978us/step - loss: nan\n",
            "Epoch 62/100\n",
            "16/16 [==============================] - 0s 1ms/step - loss: nan\n",
            "Epoch 63/100\n",
            "16/16 [==============================] - 0s 1ms/step - loss: nan\n",
            "Epoch 64/100\n",
            "16/16 [==============================] - 0s 1ms/step - loss: nan\n",
            "Epoch 65/100\n",
            "16/16 [==============================] - 0s 967us/step - loss: nan\n",
            "Epoch 66/100\n",
            "16/16 [==============================] - 0s 1ms/step - loss: nan\n",
            "Epoch 67/100\n",
            "16/16 [==============================] - 0s 949us/step - loss: nan\n",
            "Epoch 68/100\n",
            "16/16 [==============================] - 0s 935us/step - loss: nan\n",
            "Epoch 69/100\n",
            "16/16 [==============================] - 0s 1ms/step - loss: nan\n",
            "Epoch 70/100\n",
            "16/16 [==============================] - 0s 1ms/step - loss: nan\n",
            "Epoch 71/100\n",
            "16/16 [==============================] - 0s 1ms/step - loss: nan\n",
            "Epoch 72/100\n",
            "16/16 [==============================] - 0s 1ms/step - loss: nan\n",
            "Epoch 73/100\n",
            "16/16 [==============================] - 0s 1ms/step - loss: nan\n",
            "Epoch 74/100\n",
            "16/16 [==============================] - 0s 1ms/step - loss: nan\n",
            "Epoch 75/100\n",
            "16/16 [==============================] - 0s 988us/step - loss: nan\n",
            "Epoch 76/100\n",
            "16/16 [==============================] - 0s 967us/step - loss: nan\n",
            "Epoch 77/100\n",
            "16/16 [==============================] - 0s 1ms/step - loss: nan\n",
            "Epoch 78/100\n",
            "16/16 [==============================] - 0s 1ms/step - loss: nan\n",
            "Epoch 79/100\n",
            "16/16 [==============================] - 0s 1ms/step - loss: nan\n",
            "Epoch 80/100\n",
            "16/16 [==============================] - 0s 1ms/step - loss: nan\n",
            "Epoch 81/100\n",
            "16/16 [==============================] - 0s 1ms/step - loss: nan\n",
            "Epoch 82/100\n",
            "16/16 [==============================] - 0s 989us/step - loss: nan\n",
            "Epoch 83/100\n",
            "16/16 [==============================] - 0s 971us/step - loss: nan\n",
            "Epoch 84/100\n",
            "16/16 [==============================] - 0s 968us/step - loss: nan\n",
            "Epoch 85/100\n",
            "16/16 [==============================] - 0s 995us/step - loss: nan\n",
            "Epoch 86/100\n",
            "16/16 [==============================] - 0s 1ms/step - loss: nan\n",
            "Epoch 87/100\n",
            "16/16 [==============================] - 0s 1ms/step - loss: nan\n",
            "Epoch 88/100\n",
            "16/16 [==============================] - 0s 951us/step - loss: nan\n",
            "Epoch 89/100\n",
            "16/16 [==============================] - 0s 997us/step - loss: nan\n",
            "Epoch 90/100\n",
            "16/16 [==============================] - 0s 986us/step - loss: nan\n",
            "Epoch 91/100\n",
            "16/16 [==============================] - 0s 1ms/step - loss: nan\n",
            "Epoch 92/100\n",
            "16/16 [==============================] - 0s 957us/step - loss: nan\n",
            "Epoch 93/100\n",
            "16/16 [==============================] - 0s 896us/step - loss: nan\n",
            "Epoch 94/100\n",
            "16/16 [==============================] - 0s 1ms/step - loss: nan\n",
            "Epoch 95/100\n",
            "16/16 [==============================] - 0s 936us/step - loss: nan\n",
            "Epoch 96/100\n",
            "16/16 [==============================] - 0s 973us/step - loss: nan\n",
            "Epoch 97/100\n",
            "16/16 [==============================] - 0s 1ms/step - loss: nan\n",
            "Epoch 98/100\n",
            "16/16 [==============================] - 0s 1ms/step - loss: nan\n",
            "Epoch 99/100\n",
            "16/16 [==============================] - 0s 927us/step - loss: nan\n",
            "Epoch 100/100\n",
            "16/16 [==============================] - 0s 924us/step - loss: nan\n"
          ],
          "name": "stdout"
        },
        {
          "output_type": "execute_result",
          "data": {
            "text/plain": [
              "<tensorflow.python.keras.callbacks.History at 0x7f801a5deb70>"
            ]
          },
          "metadata": {
            "tags": []
          },
          "execution_count": 48
        }
      ]
    },
    {
      "cell_type": "code",
      "metadata": {
        "id": "RHono0gpbDM-",
        "colab_type": "code",
        "colab": {}
      },
      "source": [
        ""
      ],
      "execution_count": 0,
      "outputs": []
    },
    {
      "cell_type": "code",
      "metadata": {
        "colab_type": "code",
        "id": "oxNzL4lS2Gui",
        "outputId": "6c5c9aba-31bb-4ee5-85a9-9a60cf4e0241",
        "colab": {
          "base_uri": "https://localhost:8080/",
          "height": 34
        }
      },
      "source": [
        "print(model.predict([10.0]))"
      ],
      "execution_count": 43,
      "outputs": [
        {
          "output_type": "stream",
          "text": [
            "[[17.440474]]\n"
          ],
          "name": "stdout"
        }
      ]
    },
    {
      "cell_type": "code",
      "metadata": {
        "id": "xH2n9rPUSfQh",
        "colab_type": "code",
        "outputId": "62042608-99b1-4768-b660-420d2cdd28c3",
        "colab": {
          "base_uri": "https://localhost:8080/",
          "height": 34
        }
      },
      "source": [
        "print(model.predict([0.0]))"
      ],
      "execution_count": 44,
      "outputs": [
        {
          "output_type": "stream",
          "text": [
            "[[-0.29932958]]\n"
          ],
          "name": "stdout"
        }
      ]
    },
    {
      "cell_type": "code",
      "metadata": {
        "id": "QNq7COZATuYj",
        "colab_type": "code",
        "colab": {}
      },
      "source": [
        ""
      ],
      "execution_count": 0,
      "outputs": []
    },
    {
      "cell_type": "markdown",
      "metadata": {
        "id": "eAT35kZETvZI",
        "colab_type": "text"
      },
      "source": [
        "# Rewriting the whole by my own\n"
      ]
    },
    {
      "cell_type": "code",
      "metadata": {
        "id": "l1pKhOBuT9h4",
        "colab_type": "code",
        "colab": {}
      },
      "source": [
        "# Let us create a function that creates x and y for the following linear  mathematical functions:\n",
        "#  y = 3x  + 1\n",
        "def func1(total_number_of_instances, max = 500):\n",
        "  \"\"\"\n",
        "      This function generates the totat_number_of_instances random numbers\n",
        "\n",
        "      References:\n",
        "       (1) https://stackoverflow.com/questions/35215161/most-efficient-way-to-map-function-over-numpy-array\n",
        "       (2) https://numpy.org/doc/stable/reference/generated/numpy.ndarray.astype.html?highlight=astype#numpy.ndarray.astype\n",
        "  \"\"\"\n",
        "  math_func1 = np.vectorize(lambda x : 2*x - 1)\n",
        "\n",
        "  # using numpy to generate integer random numbers between 0, 100\n",
        "  x = np.random.randint(low = -10, high=max,size = total_number_of_instances )\n",
        "\n",
        "  # Using x generating y\n",
        "  y = math_func1(x)\n",
        "\n",
        "  return (x.astype('float'), y.astype('float'))\n"
      ],
      "execution_count": 0,
      "outputs": []
    },
    {
      "cell_type": "code",
      "metadata": {
        "id": "w3mKkF-pVnIb",
        "colab_type": "code",
        "colab": {
          "base_uri": "https://localhost:8080/",
          "height": 34
        },
        "outputId": "3c7f45af-a937-4276-898d-84c2cc135c28"
      },
      "source": [
        "# Lets test the function\n",
        "func1(1, 5)"
      ],
      "execution_count": 54,
      "outputs": [
        {
          "output_type": "execute_result",
          "data": {
            "text/plain": [
              "(array([3.]), array([5.]))"
            ]
          },
          "metadata": {
            "tags": []
          },
          "execution_count": 54
        }
      ]
    },
    {
      "cell_type": "code",
      "metadata": {
        "id": "arvjRw3JVs07",
        "colab_type": "code",
        "colab": {}
      },
      "source": [
        "# Lets us create the dataset \n",
        "xs, ys = func1(30, 10)"
      ],
      "execution_count": 0,
      "outputs": []
    },
    {
      "cell_type": "code",
      "metadata": {
        "id": "4PGqy1DcZNav",
        "colab_type": "code",
        "colab": {
          "base_uri": "https://localhost:8080/",
          "height": 34
        },
        "outputId": "f6ee2a6b-9054-4135-d666-70a94a7ab8bd"
      },
      "source": [
        "xs.shape"
      ],
      "execution_count": 118,
      "outputs": [
        {
          "output_type": "execute_result",
          "data": {
            "text/plain": [
              "(30,)"
            ]
          },
          "metadata": {
            "tags": []
          },
          "execution_count": 118
        }
      ]
    },
    {
      "cell_type": "code",
      "metadata": {
        "id": "12qEECg4bpGd",
        "colab_type": "code",
        "colab": {
          "base_uri": "https://localhost:8080/",
          "height": 34
        },
        "outputId": "6a00429c-a694-45d6-c224-4f6344d7393b"
      },
      "source": [
        "ys.shape"
      ],
      "execution_count": 119,
      "outputs": [
        {
          "output_type": "execute_result",
          "data": {
            "text/plain": [
              "(30,)"
            ]
          },
          "metadata": {
            "tags": []
          },
          "execution_count": 119
        }
      ]
    },
    {
      "cell_type": "code",
      "metadata": {
        "id": "iTFijOyTckC_",
        "colab_type": "code",
        "colab": {
          "base_uri": "https://localhost:8080/",
          "height": 68
        },
        "outputId": "c0ede76b-2bd0-42ff-d685-3d59900944a4"
      },
      "source": [
        "xs"
      ],
      "execution_count": 120,
      "outputs": [
        {
          "output_type": "execute_result",
          "data": {
            "text/plain": [
              "array([ -4., -10.,  -5.,  -9.,  -2.,   4.,   1., -10.,   3.,   3.,  -7.,\n",
              "        -7.,   7., -10.,   0.,   6.,  -9.,   1.,   4.,  -7.,  -6.,  -3.,\n",
              "        -8.,   5.,  -3.,  -6.,   8.,   6.,  -5.,   7.])"
            ]
          },
          "metadata": {
            "tags": []
          },
          "execution_count": 120
        }
      ]
    },
    {
      "cell_type": "code",
      "metadata": {
        "id": "2ZWpGEYwdjPx",
        "colab_type": "code",
        "colab": {
          "base_uri": "https://localhost:8080/",
          "height": 68
        },
        "outputId": "05faec94-adce-4a16-d610-1fe51c90a90c"
      },
      "source": [
        "ys"
      ],
      "execution_count": 121,
      "outputs": [
        {
          "output_type": "execute_result",
          "data": {
            "text/plain": [
              "array([ -9., -21., -11., -19.,  -5.,   7.,   1., -21.,   5.,   5., -15.,\n",
              "       -15.,  13., -21.,  -1.,  11., -19.,   1.,   7., -15., -13.,  -7.,\n",
              "       -17.,   9.,  -7., -13.,  15.,  11., -11.,  13.])"
            ]
          },
          "metadata": {
            "tags": []
          },
          "execution_count": 121
        }
      ]
    },
    {
      "cell_type": "code",
      "metadata": {
        "id": "LxKt0qBEd7BP",
        "colab_type": "code",
        "colab": {
          "base_uri": "https://localhost:8080/",
          "height": 265
        },
        "outputId": "01a680b0-73ee-488e-a55c-d4f526e5e0ac"
      },
      "source": [
        "plt.scatter(xs, ys)\n",
        "plt.show()"
      ],
      "execution_count": 122,
      "outputs": [
        {
          "output_type": "display_data",
          "data": {
            "image/png": "[encoded data removed]",
            "text/plain": [
              "<Figure size 432x288 with 1 Axes>"
            ]
          },
          "metadata": {
            "tags": [],
            "needs_background": "light"
          }
        }
      ]
    },
    {
      "cell_type": "code",
      "metadata": {
        "id": "7KABXPJ7X2oS",
        "colab_type": "code",
        "colab": {}
      },
      "source": [
        "# Let us create a model\n",
        "model1 = tf.keras.Sequential([tf.keras.layers.Dense(units=1, input_shape=[1])])\n",
        "#model.add(tf.keras.layers.Dense(1, input_shape= [1]))\n",
        "model1.compile(optimizer = \"sgd\", loss = \"mean_squared_error\")"
      ],
      "execution_count": 0,
      "outputs": []
    },
    {
      "cell_type": "code",
      "metadata": {
        "id": "nNtzLn2mYiw_",
        "colab_type": "code",
        "colab": {
          "base_uri": "https://localhost:8080/",
          "height": 1000
        },
        "outputId": "9d5367b0-44db-41bb-e3cd-5f8c8df342c4"
      },
      "source": [
        "# let us train the model\n",
        "model1.fit(xs, ys, epochs=50)"
      ],
      "execution_count": 124,
      "outputs": [
        {
          "output_type": "stream",
          "text": [
            "Epoch 1/50\n",
            "1/1 [==============================] - 0s 1ms/step - loss: 129.2057\n",
            "Epoch 2/50\n",
            "1/1 [==============================] - 0s 1ms/step - loss: 7.8444\n",
            "Epoch 3/50\n",
            "1/1 [==============================] - 0s 1ms/step - loss: 1.0915\n",
            "Epoch 4/50\n",
            "1/1 [==============================] - 0s 2ms/step - loss: 0.6935\n",
            "Epoch 5/50\n",
            "1/1 [==============================] - 0s 2ms/step - loss: 0.6487\n",
            "Epoch 6/50\n",
            "1/1 [==============================] - 0s 1ms/step - loss: 0.6243\n",
            "Epoch 7/50\n",
            "1/1 [==============================] - 0s 2ms/step - loss: 0.6018\n",
            "Epoch 8/50\n",
            "1/1 [==============================] - 0s 1ms/step - loss: 0.5801\n",
            "Epoch 9/50\n",
            "1/1 [==============================] - 0s 3ms/step - loss: 0.5593\n",
            "Epoch 10/50\n",
            "1/1 [==============================] - 0s 1ms/step - loss: 0.5392\n",
            "Epoch 11/50\n",
            "1/1 [==============================] - 0s 1ms/step - loss: 0.5198\n",
            "Epoch 12/50\n",
            "1/1 [==============================] - 0s 1ms/step - loss: 0.5012\n",
            "Epoch 13/50\n",
            "1/1 [==============================] - 0s 1ms/step - loss: 0.4832\n",
            "Epoch 14/50\n",
            "1/1 [==============================] - 0s 1ms/step - loss: 0.4658\n",
            "Epoch 15/50\n",
            "1/1 [==============================] - 0s 1ms/step - loss: 0.4491\n",
            "Epoch 16/50\n",
            "1/1 [==============================] - 0s 1ms/step - loss: 0.4329\n",
            "Epoch 17/50\n",
            "1/1 [==============================] - 0s 2ms/step - loss: 0.4174\n",
            "Epoch 18/50\n",
            "1/1 [==============================] - 0s 1ms/step - loss: 0.4024\n",
            "Epoch 19/50\n",
            "1/1 [==============================] - 0s 2ms/step - loss: 0.3879\n",
            "Epoch 20/50\n",
            "1/1 [==============================] - 0s 1ms/step - loss: 0.3740\n",
            "Epoch 21/50\n",
            "1/1 [==============================] - 0s 2ms/step - loss: 0.3606\n",
            "Epoch 22/50\n",
            "1/1 [==============================] - 0s 1ms/step - loss: 0.3476\n",
            "Epoch 23/50\n",
            "1/1 [==============================] - 0s 1ms/step - loss: 0.3351\n",
            "Epoch 24/50\n",
            "1/1 [==============================] - 0s 2ms/step - loss: 0.3231\n",
            "Epoch 25/50\n",
            "1/1 [==============================] - 0s 1ms/step - loss: 0.3115\n",
            "Epoch 26/50\n",
            "1/1 [==============================] - 0s 1ms/step - loss: 0.3003\n",
            "Epoch 27/50\n",
            "1/1 [==============================] - 0s 1ms/step - loss: 0.2895\n",
            "Epoch 28/50\n",
            "1/1 [==============================] - 0s 1ms/step - loss: 0.2791\n",
            "Epoch 29/50\n",
            "1/1 [==============================] - 0s 2ms/step - loss: 0.2691\n",
            "Epoch 30/50\n",
            "1/1 [==============================] - 0s 1ms/step - loss: 0.2594\n",
            "Epoch 31/50\n",
            "1/1 [==============================] - 0s 1ms/step - loss: 0.2501\n",
            "Epoch 32/50\n",
            "1/1 [==============================] - 0s 1ms/step - loss: 0.2411\n",
            "Epoch 33/50\n",
            "1/1 [==============================] - 0s 1ms/step - loss: 0.2324\n",
            "Epoch 34/50\n",
            "1/1 [==============================] - 0s 1ms/step - loss: 0.2241\n",
            "Epoch 35/50\n",
            "1/1 [==============================] - 0s 1ms/step - loss: 0.2160\n",
            "Epoch 36/50\n",
            "1/1 [==============================] - 0s 1ms/step - loss: 0.2083\n",
            "Epoch 37/50\n",
            "1/1 [==============================] - 0s 1ms/step - loss: 0.2008\n",
            "Epoch 38/50\n",
            "1/1 [==============================] - 0s 1ms/step - loss: 0.1936\n",
            "Epoch 39/50\n",
            "1/1 [==============================] - 0s 1ms/step - loss: 0.1866\n",
            "Epoch 40/50\n",
            "1/1 [==============================] - 0s 2ms/step - loss: 0.1799\n",
            "Epoch 41/50\n",
            "1/1 [==============================] - 0s 2ms/step - loss: 0.1734\n",
            "Epoch 42/50\n",
            "1/1 [==============================] - 0s 2ms/step - loss: 0.1672\n",
            "Epoch 43/50\n",
            "1/1 [==============================] - 0s 2ms/step - loss: 0.1612\n",
            "Epoch 44/50\n",
            "1/1 [==============================] - 0s 2ms/step - loss: 0.1554\n",
            "Epoch 45/50\n",
            "1/1 [==============================] - 0s 1ms/step - loss: 0.1498\n",
            "Epoch 46/50\n",
            "1/1 [==============================] - 0s 2ms/step - loss: 0.1444\n",
            "Epoch 47/50\n",
            "1/1 [==============================] - 0s 1ms/step - loss: 0.1393\n",
            "Epoch 48/50\n",
            "1/1 [==============================] - 0s 2ms/step - loss: 0.1343\n",
            "Epoch 49/50\n",
            "1/1 [==============================] - 0s 2ms/step - loss: 0.1294\n",
            "Epoch 50/50\n",
            "1/1 [==============================] - 0s 1ms/step - loss: 0.1248\n"
          ],
          "name": "stdout"
        },
        {
          "output_type": "execute_result",
          "data": {
            "text/plain": [
              "<tensorflow.python.keras.callbacks.History at 0x7f801c90ad68>"
            ]
          },
          "metadata": {
            "tags": []
          },
          "execution_count": 124
        }
      ]
    },
    {
      "cell_type": "code",
      "metadata": {
        "id": "Z88HC0H7YrOt",
        "colab_type": "code",
        "colab": {}
      },
      "source": [
        "y_hat = model1.predict(xs)"
      ],
      "execution_count": 0,
      "outputs": []
    },
    {
      "cell_type": "code",
      "metadata": {
        "id": "1EzdiP4CeKoL",
        "colab_type": "code",
        "colab": {
          "base_uri": "https://localhost:8080/",
          "height": 527
        },
        "outputId": "4e471e93-1cc8-4874-a154-c698722f045c"
      },
      "source": [
        "y_hat"
      ],
      "execution_count": 126,
      "outputs": [
        {
          "output_type": "execute_result",
          "data": {
            "text/plain": [
              "array([[ -8.709126  ],\n",
              "       [-20.818594  ],\n",
              "       [-10.727371  ],\n",
              "       [-18.800348  ],\n",
              "       [ -4.672638  ],\n",
              "       [  7.436829  ],\n",
              "       [  1.3820958 ],\n",
              "       [-20.818594  ],\n",
              "       [  5.4185843 ],\n",
              "       [  5.4185843 ],\n",
              "       [-14.76386   ],\n",
              "       [-14.76386   ],\n",
              "       [ 13.491563  ],\n",
              "       [-20.818594  ],\n",
              "       [ -0.63614875],\n",
              "       [ 11.473318  ],\n",
              "       [-18.800348  ],\n",
              "       [  1.3820958 ],\n",
              "       [  7.436829  ],\n",
              "       [-14.76386   ],\n",
              "       [-12.745615  ],\n",
              "       [ -6.690882  ],\n",
              "       [-16.782104  ],\n",
              "       [  9.455074  ],\n",
              "       [ -6.690882  ],\n",
              "       [-12.745615  ],\n",
              "       [ 15.509808  ],\n",
              "       [ 11.473318  ],\n",
              "       [-10.727371  ],\n",
              "       [ 13.491563  ]], dtype=float32)"
            ]
          },
          "metadata": {
            "tags": []
          },
          "execution_count": 126
        }
      ]
    },
    {
      "cell_type": "code",
      "metadata": {
        "id": "15dB3Q3XeL1t",
        "colab_type": "code",
        "colab": {
          "base_uri": "https://localhost:8080/",
          "height": 282
        },
        "outputId": "015f1c3b-8c9b-4846-8052-6a4cf4b2d7ea"
      },
      "source": [
        "plt.scatter(xs, y_hat)"
      ],
      "execution_count": 127,
      "outputs": [
        {
          "output_type": "execute_result",
          "data": {
            "text/plain": [
              "<matplotlib.collections.PathCollection at 0x7f801f85f278>"
            ]
          },
          "metadata": {
            "tags": []
          },
          "execution_count": 127
        },
        {
          "output_type": "display_data",
          "data": {
            "image/png": "[encoded data removed]",
            "text/plain": [
              "<Figure size 432x288 with 1 Axes>"
            ]
          },
          "metadata": {
            "tags": [],
            "needs_background": "light"
          }
        }
      ]
    },
    {
      "cell_type": "code",
      "metadata": {
        "id": "lgE7myHxePvc",
        "colab_type": "code",
        "colab": {}
      },
      "source": [
        ""
      ],
      "execution_count": 0,
      "outputs": []
    }
  ]
}